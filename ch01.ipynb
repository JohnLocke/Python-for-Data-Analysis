{
 "cells": [
  {
   "cell_type": "code",
   "execution_count": 1,
   "id": "0c5998c8-2859-4624-9a7f-2980dbffb944",
   "metadata": {},
   "outputs": [],
   "source": [
    "# Chapter 1: Preliminaries"
   ]
  },
  {
   "cell_type": "code",
   "execution_count": 17,
   "id": "5b22049e-0949-4f48-bc2b-a2dacb0036c8",
   "metadata": {},
   "outputs": [],
   "source": [
    "import numpy as np\n",
    "import matplotlib.pyplot as plt\n",
    "import pandas as pd\n",
    "import seaborn as sns"
   ]
  },
  {
   "cell_type": "code",
   "execution_count": 19,
   "id": "b9f6c3b4-1e1e-4a32-8d41-6f0d7cfd437c",
   "metadata": {},
   "outputs": [],
   "source": [
    "pd.options.display.max_columns = 20\n",
    "pd.options.display.max_rows = 20\n",
    "pd.options.display.max_colwidth = 80\n",
    "np.set_printoptions(precision=4, suppress=True)"
   ]
  },
  {
   "cell_type": "code",
   "execution_count": 7,
   "id": "c1419cf5-411e-486c-bf20-76129ec85ff5",
   "metadata": {},
   "outputs": [],
   "source": [
    "# The first step is to configure conda-forge as your default package channel by running the following commands in a shell.\n",
    "\n",
    "# (base) $ conda config --add channels conda-forge\n",
    "# (base) $ conda config --set channel_priority strict"
   ]
  },
  {
   "cell_type": "code",
   "execution_count": 9,
   "id": "ecc22b1c-cbda-43b8-8a3f-cd8bebd70e76",
   "metadata": {},
   "outputs": [],
   "source": [
    "# Now, we will create a new conda \"environment\" with the conda create command using Python 3.10.\n",
    "\n",
    "# (base) $ conda create -y -n pydata-book python=3.10"
   ]
  },
  {
   "cell_type": "code",
   "execution_count": null,
   "id": "052c0c84-cf91-40e0-bef1-3b406eb13eff",
   "metadata": {},
   "outputs": [],
   "source": [
    "# After the installation completes, activate the environment with conda activate.\n",
    "\n",
    "# (base) $ conda activate pydata-book"
   ]
  }
 ],
 "metadata": {
  "kernelspec": {
   "display_name": "Python 3 (ipykernel)",
   "language": "python",
   "name": "python3"
  },
  "language_info": {
   "codemirror_mode": {
    "name": "ipython",
    "version": 3
   },
   "file_extension": ".py",
   "mimetype": "text/x-python",
   "name": "python",
   "nbconvert_exporter": "python",
   "pygments_lexer": "ipython3",
   "version": "3.12.4"
  }
 },
 "nbformat": 4,
 "nbformat_minor": 5
}
